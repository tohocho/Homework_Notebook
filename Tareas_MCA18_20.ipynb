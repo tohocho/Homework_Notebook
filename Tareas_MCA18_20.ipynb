{
  "nbformat": 4,
  "nbformat_minor": 0,
  "metadata": {
    "colab": {
      "name": "Tareas_MCA18_20.ipynb",
      "version": "0.3.2",
      "provenance": [],
      "include_colab_link": true
    },
    "kernelspec": {
      "name": "python3",
      "display_name": "Python 3"
    }
  },
  "cells": [
    {
      "cell_type": "markdown",
      "metadata": {
        "id": "view-in-github",
        "colab_type": "text"
      },
      "source": [
        "<a href=\"https://colab.research.google.com/github/tohocho/Homework_Notebook/blob/master/Tareas_MCA18_20.ipynb\" target=\"_parent\"><img src=\"https://colab.research.google.com/assets/colab-badge.svg\" alt=\"Open In Colab\"/></a>"
      ]
    },
    {
      "cell_type": "markdown",
      "metadata": {
        "id": "3qU1O1gcgA2y",
        "colab_type": "text"
      },
      "source": [
        "##Tareas de MCA 2018-2020\n",
        "\n",
        "###Sistemas Distribuidos y Ubicuos ll\n",
        "Martes 7 de Mayo de 2019\n",
        " - ~~Probar las diferentes configuraciones de celsius~~\n",
        "\n",
        "###Tecnologías de la Información ll\n",
        "Miércoles 8 de Mayo de 2019\n",
        " - ~~Investigar sobre Neo4js~~\n",
        " -Investigar teoría de grafos y sus métricas\n",
        " \n",
        "###Ingeniería de Software ll\n",
        " \n",
        "###Inteligencia Artificial ll\n",
        "Viernes 10 de Mayo 2019\n",
        " - Terminar de programar el agente"
      ]
    }
  ]
}